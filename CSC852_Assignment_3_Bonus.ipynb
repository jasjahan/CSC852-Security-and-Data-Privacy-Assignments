{
 "cells": [
  {
   "cell_type": "code",
   "execution_count": 12,
   "id": "0556ff9a",
   "metadata": {},
   "outputs": [],
   "source": [
    "from Crypto.Cipher import DES3"
   ]
  },
  {
   "cell_type": "code",
   "execution_count": 13,
   "id": "ea267707",
   "metadata": {},
   "outputs": [],
   "source": [
    "from Crypto.Random import get_random_bytes"
   ]
  },
  {
   "cell_type": "code",
   "execution_count": 14,
   "id": "be534ddd",
   "metadata": {},
   "outputs": [],
   "source": [
    "key = b'abcdefgh'"
   ]
  },
  {
   "cell_type": "code",
   "execution_count": 15,
   "id": "e2894098",
   "metadata": {},
   "outputs": [],
   "source": [
    "plaintext = b'San Francisco State Univ'"
   ]
  },
  {
   "cell_type": "code",
   "execution_count": 16,
   "id": "235f7ca0",
   "metadata": {},
   "outputs": [],
   "source": [
    "while True:\n",
    "    try:\n",
    "        key = DES3.adjust_key_parity(get_random_bytes(24))\n",
    "        break\n",
    "    except ValueError:\n",
    "        pass"
   ]
  },
  {
   "cell_type": "code",
   "execution_count": 17,
   "id": "f407ba40",
   "metadata": {},
   "outputs": [],
   "source": [
    "cipher = DES3.new(key, DES3.MODE_ECB)"
   ]
  },
  {
   "cell_type": "code",
   "execution_count": 18,
   "id": "745330a3",
   "metadata": {},
   "outputs": [],
   "source": [
    "msg = cipher.encrypt(plaintext)"
   ]
  },
  {
   "cell_type": "code",
   "execution_count": 19,
   "id": "086aaa00",
   "metadata": {},
   "outputs": [
    {
     "name": "stdout",
     "output_type": "stream",
     "text": [
      "b'\\xb9EH)\\xc3\\x14\\xf3\\x13\\xe0p\\x9c\\xc6\\xc1\\x9e\\x97\\xb7\\xab\\x98w\\xd4\\x1f\\x82\\x8a['\n"
     ]
    }
   ],
   "source": [
    "print(msg)"
   ]
  },
  {
   "cell_type": "code",
   "execution_count": 20,
   "id": "e4b3ccdf",
   "metadata": {},
   "outputs": [],
   "source": [
    "decipher = DES3.new(key,DES3.MODE_ECB)"
   ]
  },
  {
   "cell_type": "code",
   "execution_count": 21,
   "id": "8222b7ee",
   "metadata": {},
   "outputs": [],
   "source": [
    "msg_dec = decipher.decrypt(msg)"
   ]
  },
  {
   "cell_type": "code",
   "execution_count": 22,
   "id": "d5ef8158",
   "metadata": {},
   "outputs": [
    {
     "name": "stdout",
     "output_type": "stream",
     "text": [
      "b'San Francisco State Univ'\n"
     ]
    }
   ],
   "source": [
    "print(msg_dec)"
   ]
  },
  {
   "cell_type": "code",
   "execution_count": null,
   "id": "12810fb8",
   "metadata": {},
   "outputs": [],
   "source": []
  },
  {
   "cell_type": "code",
   "execution_count": null,
   "id": "f893bb4c",
   "metadata": {},
   "outputs": [],
   "source": []
  }
 ],
 "metadata": {
  "kernelspec": {
   "display_name": "Python 3",
   "language": "python",
   "name": "python3"
  },
  "language_info": {
   "codemirror_mode": {
    "name": "ipython",
    "version": 3
   },
   "file_extension": ".py",
   "mimetype": "text/x-python",
   "name": "python",
   "nbconvert_exporter": "python",
   "pygments_lexer": "ipython3",
   "version": "3.8.8"
  }
 },
 "nbformat": 4,
 "nbformat_minor": 5
}
