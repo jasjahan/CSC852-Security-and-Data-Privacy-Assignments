{
 "cells": [
  {
   "cell_type": "code",
   "execution_count": 13,
   "id": "6a3d4301",
   "metadata": {},
   "outputs": [],
   "source": [
    "from Crypto.Cipher import DES"
   ]
  },
  {
   "cell_type": "code",
   "execution_count": 16,
   "id": "76efbbac",
   "metadata": {},
   "outputs": [],
   "source": [
    "key = b'abcdefgh'"
   ]
  },
  {
   "cell_type": "code",
   "execution_count": 17,
   "id": "9436aad6",
   "metadata": {},
   "outputs": [],
   "source": [
    "cipher = DES.new(key,DES.MODE_ECB)"
   ]
  },
  {
   "cell_type": "code",
   "execution_count": 55,
   "id": "4ec51a13",
   "metadata": {},
   "outputs": [],
   "source": [
    "plaintext = b'San Francisco State University C'"
   ]
  },
  {
   "cell_type": "code",
   "execution_count": 56,
   "id": "a7f441c5",
   "metadata": {},
   "outputs": [],
   "source": [
    "msg = cipher.encrypt(plaintext)"
   ]
  },
  {
   "cell_type": "code",
   "execution_count": 57,
   "id": "35847522",
   "metadata": {},
   "outputs": [
    {
     "name": "stdout",
     "output_type": "stream",
     "text": [
      "b'wt\\xa6p8[\\xac\\xe8\\x85(EY,\\xfd\\xa9\\xcfE\\xf9\\xc8\\xac\\xcd\\xc9\\xdc8V\\x95\\xe3T>\\xdc\\x14\\xbf'\n"
     ]
    }
   ],
   "source": [
    "print(msg)"
   ]
  },
  {
   "cell_type": "code",
   "execution_count": 58,
   "id": "a5c790de",
   "metadata": {},
   "outputs": [],
   "source": [
    "decipher = DES.new(key,DES.MODE_ECB)"
   ]
  },
  {
   "cell_type": "code",
   "execution_count": 59,
   "id": "f0443a9c",
   "metadata": {},
   "outputs": [],
   "source": [
    "msg_dec = decipher.decrypt(msg)"
   ]
  },
  {
   "cell_type": "code",
   "execution_count": 61,
   "id": "c95505c8",
   "metadata": {},
   "outputs": [
    {
     "name": "stdout",
     "output_type": "stream",
     "text": [
      "b'San Francisco State University C'\n"
     ]
    }
   ],
   "source": [
    "print(msg_dec)"
   ]
  }
 ],
 "metadata": {
  "kernelspec": {
   "display_name": "Python 3",
   "language": "python",
   "name": "python3"
  },
  "language_info": {
   "codemirror_mode": {
    "name": "ipython",
    "version": 3
   },
   "file_extension": ".py",
   "mimetype": "text/x-python",
   "name": "python",
   "nbconvert_exporter": "python",
   "pygments_lexer": "ipython3",
   "version": "3.8.8"
  }
 },
 "nbformat": 4,
 "nbformat_minor": 5
}
