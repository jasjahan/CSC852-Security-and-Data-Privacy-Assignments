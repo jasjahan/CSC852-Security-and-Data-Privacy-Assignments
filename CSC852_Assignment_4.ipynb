{
 "cells": [
  {
   "cell_type": "code",
   "execution_count": 1,
   "id": "641a0af3",
   "metadata": {},
   "outputs": [],
   "source": [
    "#Encryption and Decryption using AES-ECB Mode using key length 128 bits"
   ]
  },
  {
   "cell_type": "code",
   "execution_count": 2,
   "id": "b7855467",
   "metadata": {},
   "outputs": [],
   "source": [
    "from Crypto.Cipher import AES"
   ]
  },
  {
   "cell_type": "code",
   "execution_count": 3,
   "id": "eff998f0",
   "metadata": {},
   "outputs": [],
   "source": [
    "key = b'Leetcode Prework'"
   ]
  },
  {
   "cell_type": "code",
   "execution_count": 4,
   "id": "e409b069",
   "metadata": {},
   "outputs": [],
   "source": [
    "plaintext = b'Coding Interview'"
   ]
  },
  {
   "cell_type": "code",
   "execution_count": 5,
   "id": "98ab1815",
   "metadata": {},
   "outputs": [],
   "source": [
    "cipher = AES.new(key,AES.MODE_ECB)"
   ]
  },
  {
   "cell_type": "code",
   "execution_count": 6,
   "id": "6e8f134e",
   "metadata": {},
   "outputs": [],
   "source": [
    "msg = cipher.encrypt(plaintext)"
   ]
  },
  {
   "cell_type": "code",
   "execution_count": 7,
   "id": "f113d90b",
   "metadata": {},
   "outputs": [
    {
     "name": "stdout",
     "output_type": "stream",
     "text": [
      "b'6\\xa5C\\t\\xa9\\x9d|\\x9ey@\\x04\\xae\\xc4\\x12\\xe2\\xf8'\n"
     ]
    }
   ],
   "source": [
    "print(msg)"
   ]
  },
  {
   "cell_type": "code",
   "execution_count": 8,
   "id": "26a1fc7b",
   "metadata": {},
   "outputs": [],
   "source": [
    "decipher = AES.new(key,AES.MODE_ECB)"
   ]
  },
  {
   "cell_type": "code",
   "execution_count": 9,
   "id": "ab83232a",
   "metadata": {},
   "outputs": [],
   "source": [
    "msg_dec = decipher.decrypt(msg)"
   ]
  },
  {
   "cell_type": "code",
   "execution_count": 10,
   "id": "1e585316",
   "metadata": {},
   "outputs": [
    {
     "name": "stdout",
     "output_type": "stream",
     "text": [
      "b'Coding Interview'\n"
     ]
    }
   ],
   "source": [
    "print(msg_dec)"
   ]
  },
  {
   "cell_type": "code",
   "execution_count": 11,
   "id": "7fe684a6",
   "metadata": {},
   "outputs": [],
   "source": [
    "#Encryption and Decryption using AES-ECB Mode using key length 256 bit"
   ]
  },
  {
   "cell_type": "code",
   "execution_count": 12,
   "id": "52638bc3",
   "metadata": {},
   "outputs": [],
   "source": [
    "from Crypto.Cipher import AES"
   ]
  },
  {
   "cell_type": "code",
   "execution_count": 13,
   "id": "8ce5833c",
   "metadata": {},
   "outputs": [],
   "source": [
    "key = b'Leetcode Prework PracticeSession'"
   ]
  },
  {
   "cell_type": "code",
   "execution_count": 14,
   "id": "425c749e",
   "metadata": {},
   "outputs": [],
   "source": [
    "plaintext = b'Coding Interview'"
   ]
  },
  {
   "cell_type": "code",
   "execution_count": 15,
   "id": "671c4dc6",
   "metadata": {},
   "outputs": [],
   "source": [
    "cipher = AES.new(key,AES.MODE_ECB)"
   ]
  },
  {
   "cell_type": "code",
   "execution_count": 16,
   "id": "c125be2e",
   "metadata": {},
   "outputs": [],
   "source": [
    "msg = cipher.encrypt(plaintext)"
   ]
  },
  {
   "cell_type": "code",
   "execution_count": 17,
   "id": "64241075",
   "metadata": {},
   "outputs": [
    {
     "name": "stdout",
     "output_type": "stream",
     "text": [
      "b'\\xca\\xc6\\xde\\xdb&+\\xac\\xa8\\xab\\xf9\\xe0\\xe0|\\xae\\xbf\\xd3'\n"
     ]
    }
   ],
   "source": [
    "print(msg)"
   ]
  },
  {
   "cell_type": "code",
   "execution_count": 18,
   "id": "1a5c03dd",
   "metadata": {},
   "outputs": [],
   "source": [
    "decipher = AES.new(key,AES.MODE_ECB)"
   ]
  },
  {
   "cell_type": "code",
   "execution_count": 19,
   "id": "2c57c672",
   "metadata": {},
   "outputs": [],
   "source": [
    "msg_dec = decipher.decrypt(msg)"
   ]
  },
  {
   "cell_type": "code",
   "execution_count": 20,
   "id": "006aab02",
   "metadata": {},
   "outputs": [
    {
     "name": "stdout",
     "output_type": "stream",
     "text": [
      "b'Coding Interview'\n"
     ]
    }
   ],
   "source": [
    "print(msg_dec)"
   ]
  }
 ],
 "metadata": {
  "kernelspec": {
   "display_name": "Python 3",
   "language": "python",
   "name": "python3"
  },
  "language_info": {
   "codemirror_mode": {
    "name": "ipython",
    "version": 3
   },
   "file_extension": ".py",
   "mimetype": "text/x-python",
   "name": "python",
   "nbconvert_exporter": "python",
   "pygments_lexer": "ipython3",
   "version": "3.8.8"
  }
 },
 "nbformat": 4,
 "nbformat_minor": 5
}
