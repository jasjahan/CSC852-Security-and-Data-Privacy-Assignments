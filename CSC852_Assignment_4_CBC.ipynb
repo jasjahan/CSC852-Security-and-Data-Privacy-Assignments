{
 "cells": [
  {
   "cell_type": "code",
   "execution_count": 35,
   "id": "3b21b631",
   "metadata": {},
   "outputs": [],
   "source": [
    "from base64 import b64encode, b64decode\n",
    "from Crypto.Cipher import AES, DES\n",
    "from Crypto.Util.Padding import pad, unpad\n",
    "from Crypto.Random import get_random_bytes"
   ]
  },
  {
   "cell_type": "code",
   "execution_count": 36,
   "id": "ce54c190",
   "metadata": {},
   "outputs": [],
   "source": [
    "#Encryption and Decryption using AES-CBC Mode with padding, unpadding"
   ]
  },
  {
   "cell_type": "code",
   "execution_count": 37,
   "id": "eb0470e7",
   "metadata": {},
   "outputs": [],
   "source": [
    "data = b\"Sentence\""
   ]
  },
  {
   "cell_type": "code",
   "execution_count": 38,
   "id": "c8e8536e",
   "metadata": {},
   "outputs": [],
   "source": [
    "key = get_random_bytes(16)"
   ]
  },
  {
   "cell_type": "code",
   "execution_count": 39,
   "id": "72e8b932",
   "metadata": {},
   "outputs": [],
   "source": [
    "cipher = AES.new(key, AES.MODE_CBC)"
   ]
  },
  {
   "cell_type": "code",
   "execution_count": 40,
   "id": "7c088bd4",
   "metadata": {},
   "outputs": [],
   "source": [
    "ct_bytes = cipher.encrypt(pad(data, AES.block_size))"
   ]
  },
  {
   "cell_type": "code",
   "execution_count": 41,
   "id": "111f16dc",
   "metadata": {},
   "outputs": [],
   "source": [
    "iv = b64encode(cipher.iv)"
   ]
  },
  {
   "cell_type": "code",
   "execution_count": 42,
   "id": "31307ad3",
   "metadata": {},
   "outputs": [],
   "source": [
    "ct = b64encode(ct_bytes)"
   ]
  },
  {
   "cell_type": "code",
   "execution_count": 43,
   "id": "4c749fde",
   "metadata": {},
   "outputs": [],
   "source": [
    "en_iv = iv"
   ]
  },
  {
   "cell_type": "code",
   "execution_count": 44,
   "id": "a1ded6f3",
   "metadata": {},
   "outputs": [],
   "source": [
    "en_ciphertext = ct"
   ]
  },
  {
   "cell_type": "code",
   "execution_count": 45,
   "id": "21e40f1e",
   "metadata": {},
   "outputs": [],
   "source": [
    "iv = b64decode(en_iv)\n",
    "ct = b64decode(en_ciphertext)"
   ]
  },
  {
   "cell_type": "code",
   "execution_count": 46,
   "id": "9c26d809",
   "metadata": {},
   "outputs": [],
   "source": [
    "cipher = AES.new(key, AES.MODE_CBC, iv)"
   ]
  },
  {
   "cell_type": "code",
   "execution_count": 47,
   "id": "d51816cb",
   "metadata": {},
   "outputs": [],
   "source": [
    "msg = unpad(cipher.decrypt(ct), AES.block_size)"
   ]
  },
  {
   "cell_type": "code",
   "execution_count": 48,
   "id": "2a93778a",
   "metadata": {},
   "outputs": [
    {
     "name": "stdout",
     "output_type": "stream",
     "text": [
      "b'Sentence'\n"
     ]
    }
   ],
   "source": [
    "print(msg)"
   ]
  },
  {
   "cell_type": "code",
   "execution_count": 49,
   "id": "93c25d98",
   "metadata": {},
   "outputs": [],
   "source": [
    "#Encryption and Decryption using DES-CBC Mode with padding, unpadding"
   ]
  },
  {
   "cell_type": "code",
   "execution_count": 50,
   "id": "3cec979f",
   "metadata": {},
   "outputs": [],
   "source": [
    "data = b\"Sentence for des\""
   ]
  },
  {
   "cell_type": "code",
   "execution_count": 51,
   "id": "28186a53",
   "metadata": {},
   "outputs": [],
   "source": [
    "key = b'abcdefgh'"
   ]
  },
  {
   "cell_type": "code",
   "execution_count": 52,
   "id": "edbd0af6",
   "metadata": {},
   "outputs": [],
   "source": [
    "cipher = DES.new(key, DES.MODE_CBC)"
   ]
  },
  {
   "cell_type": "code",
   "execution_count": 53,
   "id": "fab13c95",
   "metadata": {},
   "outputs": [],
   "source": [
    "ct_bytes = cipher.encrypt(pad(data, DES.block_size))"
   ]
  },
  {
   "cell_type": "code",
   "execution_count": 54,
   "id": "5897187f",
   "metadata": {},
   "outputs": [],
   "source": [
    "iv = b64encode(cipher.iv)"
   ]
  },
  {
   "cell_type": "code",
   "execution_count": 55,
   "id": "e331e8c5",
   "metadata": {},
   "outputs": [],
   "source": [
    "ct = b64encode(ct_bytes)"
   ]
  },
  {
   "cell_type": "code",
   "execution_count": 56,
   "id": "04fbdc01",
   "metadata": {},
   "outputs": [],
   "source": [
    "en_iv = iv"
   ]
  },
  {
   "cell_type": "code",
   "execution_count": 57,
   "id": "b05b6c3e",
   "metadata": {},
   "outputs": [],
   "source": [
    "en_ciphertext = ct"
   ]
  },
  {
   "cell_type": "code",
   "execution_count": 58,
   "id": "15721346",
   "metadata": {},
   "outputs": [],
   "source": [
    "iv = b64decode(en_iv)\n",
    "ct = b64decode(en_ciphertext)"
   ]
  },
  {
   "cell_type": "code",
   "execution_count": 59,
   "id": "6ee000fa",
   "metadata": {},
   "outputs": [],
   "source": [
    "cipher = DES.new(key, DES.MODE_CBC, iv)"
   ]
  },
  {
   "cell_type": "code",
   "execution_count": 60,
   "id": "f641e4c3",
   "metadata": {},
   "outputs": [],
   "source": [
    "msg = unpad(cipher.decrypt(ct), DES.block_size)"
   ]
  },
  {
   "cell_type": "code",
   "execution_count": 61,
   "id": "3ac99a95",
   "metadata": {},
   "outputs": [
    {
     "name": "stdout",
     "output_type": "stream",
     "text": [
      "b'Sentence for des'\n"
     ]
    }
   ],
   "source": [
    "print(msg)"
   ]
  },
  {
   "cell_type": "code",
   "execution_count": null,
   "id": "ebe8c2b4",
   "metadata": {},
   "outputs": [],
   "source": []
  }
 ],
 "metadata": {
  "kernelspec": {
   "display_name": "Python 3",
   "language": "python",
   "name": "python3"
  },
  "language_info": {
   "codemirror_mode": {
    "name": "ipython",
    "version": 3
   },
   "file_extension": ".py",
   "mimetype": "text/x-python",
   "name": "python",
   "nbconvert_exporter": "python",
   "pygments_lexer": "ipython3",
   "version": "3.8.8"
  }
 },
 "nbformat": 4,
 "nbformat_minor": 5
}
